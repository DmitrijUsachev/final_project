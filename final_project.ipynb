{
 "cells": [
  {
   "cell_type": "markdown",
   "id": "36260871",
   "metadata": {},
   "source": [
    " # 1. Постановка задачи"
   ]
  },
  {
   "cell_type": "markdown",
   "id": "3b7086e5",
   "metadata": {},
   "source": [
    "## 1.1 Описание проекта: промышленность"
   ]
  },
  {
   "cell_type": "markdown",
   "id": "e31e5524",
   "metadata": {},
   "source": [
    "Чтобы оптимизировать производственные расходы, металлургический комбинат «Стальная птица» решил уменьшить потребление электроэнергии на этапе обработки стали. Для этого комбинату нужно контролировать температуру сплава. Ваша задача — построить модель, которая будет её предсказывать. \n",
    "Заказчик хочет использовать разработанную модель для имитации технологического процесса"
   ]
  },
  {
   "cell_type": "markdown",
   "id": "70276695",
   "metadata": {},
   "source": [
    "## 1.2 Описание технологического процесса"
   ]
  },
  {
   "cell_type": "markdown",
   "id": "59625289",
   "metadata": {},
   "source": [
    "Сталь обрабатывают в металлическом ковше вместимостью около 100 тонн. Чтобы ковш выдерживал высокие температуры, изнутри его облицовывают огнеупорным кирпичом. Расплавленную сталь заливают в ковш и подогревают до нужной температуры графитовыми электродами. Они установлены в крышке ковша. \n",
    "Из сплава выводится сера (этот процесс — десульфурация), добавлением примесей корректируется химический состав и отбираются пробы. Сталь легируют — изменяют её состав — подавая куски сплава из бункера для сыпучих материалов или проволоку через специальный трайб-аппарат (от англ. tribe — «масса»).\n",
    "Перед тем как первый раз ввести легирующие добавки, измеряют температуру стали и производят её химический анализ. Потом температуру на несколько минут повышают, добавляют легирующие материалы и продувают сплав инертным газом. Затем его перемешивают и снова проводят измерения. Такой цикл повторяется до достижения целевого химического состава и оптимальной температуры плавки.\n",
    "Тогда расплавленная сталь отправляется на доводку металла или поступает в машину непрерывной разливки. Оттуда готовый продукт выходит в виде заготовок-слябов (от англ. slab — «плита»)."
   ]
  },
  {
   "cell_type": "markdown",
   "id": "1a2a910f",
   "metadata": {},
   "source": [
    "## 1.3 Описание даннных"
   ]
  },
  {
   "cell_type": "markdown",
   "id": "054a6495",
   "metadata": {},
   "source": [
    "Данные состоят из нескольких файлов, полученных из разных источников:  \n",
    "- data_arc_new.csv — данные об электродах;  \n",
    "- data_bulk_new.csv — данные о подаче сыпучих материалов (объём);  \n",
    "- data_bulk_time_new.csv — данные о подаче сыпучих материалов (время);  \n",
    "- data_gas_new.csv — данные о продувке сплава газом;  \n",
    "- data_temp_new.csv — результаты измерения температуры;  \n",
    "- data_wire_new.csv — данные о проволочных материалах (объём);  \n",
    "- data_wire_time_new.csv — данные о проволочных материалах (время)"
   ]
  },
  {
   "cell_type": "markdown",
   "id": "c9ee2c98",
   "metadata": {},
   "source": [
    "Файл data_arc_new.csv\n",
    "\n",
    "- key — номер партии;\n",
    "- Начало нагрева дугой — время начала нагрева;\n",
    "- Конец нагрева дугой — время окончания нагрева;\n",
    "- Активная мощность — значение активной мощности;\n",
    "- Реактивная мощность — значение реактивной мощности."
   ]
  },
  {
   "cell_type": "markdown",
   "id": "c4089988",
   "metadata": {},
   "source": [
    "Файл data_bulk_new.cs:\n",
    "\n",
    "- key — номер партии;  \n",
    "- Bulk 1 … Bulk 15 — объём подаваемого материала."
   ]
  },
  {
   "cell_type": "markdown",
   "id": "c853d972",
   "metadata": {},
   "source": [
    "Файл data_bulk_time_new.csv:\n",
    "- key — номер партии;\n",
    "- Bulk 1 … Bulk 15 — время подачи материала."
   ]
  },
  {
   "cell_type": "markdown",
   "id": "efe937e1",
   "metadata": {},
   "source": [
    "Файл data_gas_new.csv:\n",
    "- key — номер партии;\n",
    "- Газ 1 — объём подаваемого газа."
   ]
  },
  {
   "cell_type": "markdown",
   "id": "06adca3e",
   "metadata": {},
   "source": [
    "Файл data_temp_new.csv:\n",
    "\n",
    "- key — номер партии;\n",
    "- Время замера — время замера;\n",
    "- Температура — значение температуры."
   ]
  },
  {
   "cell_type": "markdown",
   "id": "79f319ee",
   "metadata": {},
   "source": [
    "Файл data_wire_new.csv:\n",
    "\n",
    "- key — номер партии;\n",
    "- Wire 1 … Wire 15 — объём подаваемых проволочных материалов"
   ]
  },
  {
   "cell_type": "markdown",
   "id": "345d522e",
   "metadata": {},
   "source": [
    "Файл data_wire_time_new.csv\n",
    "\n",
    "- key — номер партии;\n",
    "- Wire 1 … Wire 15 — время подачи проволочных материалов."
   ]
  },
  {
   "cell_type": "markdown",
   "id": "91416afb",
   "metadata": {},
   "source": [
    "Во всех файлах столбец key содержит номер партии. В файлах может быть несколько строк с одинаковым значением key: они соответствуют разным итерациям обработки."
   ]
  },
  {
   "cell_type": "markdown",
   "id": "16a2c91a",
   "metadata": {},
   "source": [
    "## 1.4 Постановка задчи"
   ]
  },
  {
   "cell_type": "markdown",
   "id": "6946732e",
   "metadata": {},
   "source": [
    "Построить модель, которая предскажет температуру в системе \"печь-ковш\"(кислородного конвертера) при выплавке стали кислородно-конвертерным способом в конвертерном цеху металургического комбината"
   ]
  },
  {
   "cell_type": "markdown",
   "id": "01cc404f",
   "metadata": {},
   "source": [
    "# 2. Импорт библиотек и датасета"
   ]
  },
  {
   "cell_type": "markdown",
   "id": "b052484f",
   "metadata": {},
   "source": [
    "## 2.1. Импорт библиотек"
   ]
  },
  {
   "cell_type": "code",
   "execution_count": 1,
   "id": "ae745b9a",
   "metadata": {},
   "outputs": [
    {
     "name": "stderr",
     "output_type": "stream",
     "text": [
      "/var/folders/5m/tbwsb3vs6734vbbw653my9v00000gp/T/ipykernel_14090/2959857078.py:6: DeprecationWarning: Importing display from IPython.core.display is deprecated since IPython 7.14, please import from IPython display\n",
      "  from IPython.core.display import display, HTML;\n"
     ]
    }
   ],
   "source": [
    "import pandas as pd\n",
    "import numpy as np\n",
    "import matplotlib.pyplot as plt\n",
    "import seaborn as sns\n",
    "import os\n",
    "from IPython.core.display import display, HTML;"
   ]
  },
  {
   "cell_type": "code",
   "execution_count": 2,
   "id": "0d649061",
   "metadata": {},
   "outputs": [
    {
     "data": {
      "text/html": [
       "<style>.container { width:90% !important; }</style>"
      ],
      "text/plain": [
       "<IPython.core.display.HTML object>"
      ]
     },
     "metadata": {},
     "output_type": "display_data"
    }
   ],
   "source": [
    "display(HTML(\"<style>.container { width:90% !important; }</style>\")) # Изменяем ширину тетради"
   ]
  },
  {
   "cell_type": "markdown",
   "id": "699989a6",
   "metadata": {},
   "source": [
    "## 2.2. Импорт датасета"
   ]
  },
  {
   "cell_type": "code",
   "execution_count": 3,
   "id": "fe731048",
   "metadata": {},
   "outputs": [],
   "source": [
    "def import_data(pth1:str, pth2:str) -> pd.DataFrame:\n",
    "    try:\n",
    "        df = pd.read_csv(pth1)\n",
    "    except OSError as e:\n",
    "         df = pd.read_csv(pth2)\n",
    "    return df"
   ]
  },
  {
   "cell_type": "code",
   "execution_count": 4,
   "id": "068fa9e4",
   "metadata": {},
   "outputs": [],
   "source": [
    "pth1 = ['https://code.s3.yandex.net/datasets/data_arc_new.csv',\n",
    "        'https://code.s3.yandex.net/datasets/data_bulk_new.csv',\n",
    "        'https://code.s3.yandex.net/datasets/data_bulk_time_new.csv',\n",
    "        'https://code.s3.yandex.net/datasets/data_gas_new.csv',\n",
    "        'https://code.s3.yandex.net/datasets/data_temp_new.csv',\n",
    "        'https://code.s3.yandex.net/datasets/data_wire_time_new.csv'\n",
    "]"
   ]
  },
  {
   "cell_type": "code",
   "execution_count": 5,
   "id": "5847b8ec",
   "metadata": {},
   "outputs": [],
   "source": [
    "pth2 = ['/Documents/GitHub/final_project/data_arc_new.csv', \n",
    "        '/Documents/GitHub/final_project/data_bulk_new.csv',\n",
    "        '/Documents/GitHub/final_project/data_bulk_time_new.csv',\n",
    "        '/Documents/GitHub/final_project/data_gas_new.csv',\n",
    "        '/Documents/GitHub/final_project/data_temp_new.csv',\n",
    "        '/Documents/GitHub/final_project/data_wire_new.csv',\n",
    "        '/Documents/GitHub/final_project/data_wire_time_new.csv'\n",
    "]"
   ]
  },
  {
   "cell_type": "code",
   "execution_count": 6,
   "id": "597881df",
   "metadata": {},
   "outputs": [],
   "source": [
    "arc_new = import_data(pth1[0], pth2[0]) #данные об электродах;\n",
    "bulk_new = import_data(pth1[1], pth2[1]) #данные о подаче сыпучих материалов (объём);  \n",
    "bulk_time_new = import_data(pth1[2], pth2[2]) #данные о подаче сыпучих материалов (время);  \n",
    "gas_new = import_data(pth1[3], pth2[3]) #результаты измерения температуры;\n",
    "temp_new = import_data(pth1[4], pth2[4]) #данные о проволочных материалах (объём);  \n",
    "wire_time_new = import_data(pth1[4], pth2[4]) #данные о проволочных материалах (время)"
   ]
  },
  {
   "cell_type": "code",
   "execution_count": 7,
   "id": "1ab23722",
   "metadata": {},
   "outputs": [
    {
     "name": "stdout",
     "output_type": "stream",
     "text": [
      "<class 'pandas.core.frame.DataFrame'>\n",
      "RangeIndex: 14876 entries, 0 to 14875\n",
      "Data columns (total 5 columns):\n",
      " #   Column                Non-Null Count  Dtype  \n",
      "---  ------                --------------  -----  \n",
      " 0   key                   14876 non-null  int64  \n",
      " 1   Начало нагрева дугой  14876 non-null  object \n",
      " 2   Конец нагрева дугой   14876 non-null  object \n",
      " 3   Активная мощность     14876 non-null  float64\n",
      " 4   Реактивная мощность   14876 non-null  float64\n",
      "dtypes: float64(2), int64(1), object(2)\n",
      "memory usage: 581.2+ KB\n"
     ]
    },
    {
     "data": {
      "text/html": [
       "<div>\n",
       "<style scoped>\n",
       "    .dataframe tbody tr th:only-of-type {\n",
       "        vertical-align: middle;\n",
       "    }\n",
       "\n",
       "    .dataframe tbody tr th {\n",
       "        vertical-align: top;\n",
       "    }\n",
       "\n",
       "    .dataframe thead th {\n",
       "        text-align: right;\n",
       "    }\n",
       "</style>\n",
       "<table border=\"1\" class=\"dataframe\">\n",
       "  <thead>\n",
       "    <tr style=\"text-align: right;\">\n",
       "      <th></th>\n",
       "      <th>key</th>\n",
       "      <th>Начало нагрева дугой</th>\n",
       "      <th>Конец нагрева дугой</th>\n",
       "      <th>Активная мощность</th>\n",
       "      <th>Реактивная мощность</th>\n",
       "    </tr>\n",
       "  </thead>\n",
       "  <tbody>\n",
       "    <tr>\n",
       "      <th>9773</th>\n",
       "      <td>2114</td>\n",
       "      <td>2019-07-28 01:13:27</td>\n",
       "      <td>2019-07-28 01:16:45</td>\n",
       "      <td>0.416684</td>\n",
       "      <td>0.347834</td>\n",
       "    </tr>\n",
       "    <tr>\n",
       "      <th>14866</th>\n",
       "      <td>3240</td>\n",
       "      <td>2019-09-06 15:25:31</td>\n",
       "      <td>2019-09-06 15:27:32</td>\n",
       "      <td>0.669469</td>\n",
       "      <td>0.497374</td>\n",
       "    </tr>\n",
       "    <tr>\n",
       "      <th>8336</th>\n",
       "      <td>1814</td>\n",
       "      <td>2019-07-09 20:16:56</td>\n",
       "      <td>2019-07-09 20:20:04</td>\n",
       "      <td>0.675231</td>\n",
       "      <td>0.501533</td>\n",
       "    </tr>\n",
       "    <tr>\n",
       "      <th>4883</th>\n",
       "      <td>1053</td>\n",
       "      <td>2019-06-12 23:29:10</td>\n",
       "      <td>2019-06-12 23:32:21</td>\n",
       "      <td>0.636881</td>\n",
       "      <td>0.501213</td>\n",
       "    </tr>\n",
       "    <tr>\n",
       "      <th>1923</th>\n",
       "      <td>416</td>\n",
       "      <td>2019-05-19 08:58:14</td>\n",
       "      <td>2019-05-19 09:08:36</td>\n",
       "      <td>0.901524</td>\n",
       "      <td>0.576528</td>\n",
       "    </tr>\n",
       "  </tbody>\n",
       "</table>\n",
       "</div>"
      ],
      "text/plain": [
       "        key Начало нагрева дугой  Конец нагрева дугой  Активная мощность  \\\n",
       "9773   2114  2019-07-28 01:13:27  2019-07-28 01:16:45           0.416684   \n",
       "14866  3240  2019-09-06 15:25:31  2019-09-06 15:27:32           0.669469   \n",
       "8336   1814  2019-07-09 20:16:56  2019-07-09 20:20:04           0.675231   \n",
       "4883   1053  2019-06-12 23:29:10  2019-06-12 23:32:21           0.636881   \n",
       "1923    416  2019-05-19 08:58:14  2019-05-19 09:08:36           0.901524   \n",
       "\n",
       "       Реактивная мощность  \n",
       "9773              0.347834  \n",
       "14866             0.497374  \n",
       "8336              0.501533  \n",
       "4883              0.501213  \n",
       "1923              0.576528  "
      ]
     },
     "execution_count": 7,
     "metadata": {},
     "output_type": "execute_result"
    }
   ],
   "source": [
    "arc_new.info()\n",
    "arc_new.sample(5)"
   ]
  },
  {
   "cell_type": "code",
   "execution_count": 8,
   "id": "da1599bf",
   "metadata": {},
   "outputs": [
    {
     "name": "stdout",
     "output_type": "stream",
     "text": [
      "<class 'pandas.core.frame.DataFrame'>\n",
      "RangeIndex: 3129 entries, 0 to 3128\n",
      "Data columns (total 16 columns):\n",
      " #   Column   Non-Null Count  Dtype  \n",
      "---  ------   --------------  -----  \n",
      " 0   key      3129 non-null   int64  \n",
      " 1   Bulk 1   252 non-null    float64\n",
      " 2   Bulk 2   22 non-null     float64\n",
      " 3   Bulk 3   1298 non-null   float64\n",
      " 4   Bulk 4   1014 non-null   float64\n",
      " 5   Bulk 5   77 non-null     float64\n",
      " 6   Bulk 6   576 non-null    float64\n",
      " 7   Bulk 7   25 non-null     float64\n",
      " 8   Bulk 8   1 non-null      float64\n",
      " 9   Bulk 9   19 non-null     float64\n",
      " 10  Bulk 10  176 non-null    float64\n",
      " 11  Bulk 11  177 non-null    float64\n",
      " 12  Bulk 12  2450 non-null   float64\n",
      " 13  Bulk 13  18 non-null     float64\n",
      " 14  Bulk 14  2806 non-null   float64\n",
      " 15  Bulk 15  2248 non-null   float64\n",
      "dtypes: float64(15), int64(1)\n",
      "memory usage: 391.3 KB\n"
     ]
    },
    {
     "data": {
      "text/html": [
       "<div>\n",
       "<style scoped>\n",
       "    .dataframe tbody tr th:only-of-type {\n",
       "        vertical-align: middle;\n",
       "    }\n",
       "\n",
       "    .dataframe tbody tr th {\n",
       "        vertical-align: top;\n",
       "    }\n",
       "\n",
       "    .dataframe thead th {\n",
       "        text-align: right;\n",
       "    }\n",
       "</style>\n",
       "<table border=\"1\" class=\"dataframe\">\n",
       "  <thead>\n",
       "    <tr style=\"text-align: right;\">\n",
       "      <th></th>\n",
       "      <th>key</th>\n",
       "      <th>Bulk 1</th>\n",
       "      <th>Bulk 2</th>\n",
       "      <th>Bulk 3</th>\n",
       "      <th>Bulk 4</th>\n",
       "      <th>Bulk 5</th>\n",
       "      <th>Bulk 6</th>\n",
       "      <th>Bulk 7</th>\n",
       "      <th>Bulk 8</th>\n",
       "      <th>Bulk 9</th>\n",
       "      <th>Bulk 10</th>\n",
       "      <th>Bulk 11</th>\n",
       "      <th>Bulk 12</th>\n",
       "      <th>Bulk 13</th>\n",
       "      <th>Bulk 14</th>\n",
       "      <th>Bulk 15</th>\n",
       "    </tr>\n",
       "  </thead>\n",
       "  <tbody>\n",
       "    <tr>\n",
       "      <th>1792</th>\n",
       "      <td>1854</td>\n",
       "      <td>NaN</td>\n",
       "      <td>NaN</td>\n",
       "      <td>231.0</td>\n",
       "      <td>NaN</td>\n",
       "      <td>NaN</td>\n",
       "      <td>NaN</td>\n",
       "      <td>NaN</td>\n",
       "      <td>NaN</td>\n",
       "      <td>NaN</td>\n",
       "      <td>NaN</td>\n",
       "      <td>32.0</td>\n",
       "      <td>205.0</td>\n",
       "      <td>NaN</td>\n",
       "      <td>98.0</td>\n",
       "      <td>205.0</td>\n",
       "    </tr>\n",
       "    <tr>\n",
       "      <th>1075</th>\n",
       "      <td>1122</td>\n",
       "      <td>NaN</td>\n",
       "      <td>NaN</td>\n",
       "      <td>31.0</td>\n",
       "      <td>NaN</td>\n",
       "      <td>NaN</td>\n",
       "      <td>NaN</td>\n",
       "      <td>NaN</td>\n",
       "      <td>NaN</td>\n",
       "      <td>NaN</td>\n",
       "      <td>NaN</td>\n",
       "      <td>NaN</td>\n",
       "      <td>204.0</td>\n",
       "      <td>NaN</td>\n",
       "      <td>104.0</td>\n",
       "      <td>103.0</td>\n",
       "    </tr>\n",
       "    <tr>\n",
       "      <th>1127</th>\n",
       "      <td>1175</td>\n",
       "      <td>NaN</td>\n",
       "      <td>NaN</td>\n",
       "      <td>NaN</td>\n",
       "      <td>NaN</td>\n",
       "      <td>NaN</td>\n",
       "      <td>NaN</td>\n",
       "      <td>NaN</td>\n",
       "      <td>NaN</td>\n",
       "      <td>NaN</td>\n",
       "      <td>NaN</td>\n",
       "      <td>NaN</td>\n",
       "      <td>106.0</td>\n",
       "      <td>NaN</td>\n",
       "      <td>202.0</td>\n",
       "      <td>104.0</td>\n",
       "    </tr>\n",
       "    <tr>\n",
       "      <th>541</th>\n",
       "      <td>570</td>\n",
       "      <td>NaN</td>\n",
       "      <td>NaN</td>\n",
       "      <td>65.0</td>\n",
       "      <td>NaN</td>\n",
       "      <td>NaN</td>\n",
       "      <td>NaN</td>\n",
       "      <td>NaN</td>\n",
       "      <td>NaN</td>\n",
       "      <td>NaN</td>\n",
       "      <td>NaN</td>\n",
       "      <td>NaN</td>\n",
       "      <td>NaN</td>\n",
       "      <td>NaN</td>\n",
       "      <td>245.0</td>\n",
       "      <td>NaN</td>\n",
       "    </tr>\n",
       "    <tr>\n",
       "      <th>1665</th>\n",
       "      <td>1725</td>\n",
       "      <td>NaN</td>\n",
       "      <td>NaN</td>\n",
       "      <td>NaN</td>\n",
       "      <td>131.0</td>\n",
       "      <td>NaN</td>\n",
       "      <td>NaN</td>\n",
       "      <td>NaN</td>\n",
       "      <td>NaN</td>\n",
       "      <td>NaN</td>\n",
       "      <td>NaN</td>\n",
       "      <td>NaN</td>\n",
       "      <td>310.0</td>\n",
       "      <td>NaN</td>\n",
       "      <td>191.0</td>\n",
       "      <td>209.0</td>\n",
       "    </tr>\n",
       "  </tbody>\n",
       "</table>\n",
       "</div>"
      ],
      "text/plain": [
       "       key  Bulk 1  Bulk 2  Bulk 3  Bulk 4  Bulk 5  Bulk 6  Bulk 7  Bulk 8  \\\n",
       "1792  1854     NaN     NaN   231.0     NaN     NaN     NaN     NaN     NaN   \n",
       "1075  1122     NaN     NaN    31.0     NaN     NaN     NaN     NaN     NaN   \n",
       "1127  1175     NaN     NaN     NaN     NaN     NaN     NaN     NaN     NaN   \n",
       "541    570     NaN     NaN    65.0     NaN     NaN     NaN     NaN     NaN   \n",
       "1665  1725     NaN     NaN     NaN   131.0     NaN     NaN     NaN     NaN   \n",
       "\n",
       "      Bulk 9  Bulk 10  Bulk 11  Bulk 12  Bulk 13  Bulk 14  Bulk 15  \n",
       "1792     NaN      NaN     32.0    205.0      NaN     98.0    205.0  \n",
       "1075     NaN      NaN      NaN    204.0      NaN    104.0    103.0  \n",
       "1127     NaN      NaN      NaN    106.0      NaN    202.0    104.0  \n",
       "541      NaN      NaN      NaN      NaN      NaN    245.0      NaN  \n",
       "1665     NaN      NaN      NaN    310.0      NaN    191.0    209.0  "
      ]
     },
     "execution_count": 8,
     "metadata": {},
     "output_type": "execute_result"
    }
   ],
   "source": [
    "bulk_new.info()\n",
    "bulk_new.sample(5)"
   ]
  },
  {
   "cell_type": "code",
   "execution_count": 9,
   "id": "dbfcce68",
   "metadata": {},
   "outputs": [
    {
     "name": "stdout",
     "output_type": "stream",
     "text": [
      "<class 'pandas.core.frame.DataFrame'>\n",
      "RangeIndex: 3129 entries, 0 to 3128\n",
      "Data columns (total 16 columns):\n",
      " #   Column   Non-Null Count  Dtype \n",
      "---  ------   --------------  ----- \n",
      " 0   key      3129 non-null   int64 \n",
      " 1   Bulk 1   252 non-null    object\n",
      " 2   Bulk 2   22 non-null     object\n",
      " 3   Bulk 3   1298 non-null   object\n",
      " 4   Bulk 4   1014 non-null   object\n",
      " 5   Bulk 5   77 non-null     object\n",
      " 6   Bulk 6   576 non-null    object\n",
      " 7   Bulk 7   25 non-null     object\n",
      " 8   Bulk 8   1 non-null      object\n",
      " 9   Bulk 9   19 non-null     object\n",
      " 10  Bulk 10  176 non-null    object\n",
      " 11  Bulk 11  177 non-null    object\n",
      " 12  Bulk 12  2450 non-null   object\n",
      " 13  Bulk 13  18 non-null     object\n",
      " 14  Bulk 14  2806 non-null   object\n",
      " 15  Bulk 15  2248 non-null   object\n",
      "dtypes: int64(1), object(15)\n",
      "memory usage: 391.3+ KB\n"
     ]
    },
    {
     "data": {
      "text/html": [
       "<div>\n",
       "<style scoped>\n",
       "    .dataframe tbody tr th:only-of-type {\n",
       "        vertical-align: middle;\n",
       "    }\n",
       "\n",
       "    .dataframe tbody tr th {\n",
       "        vertical-align: top;\n",
       "    }\n",
       "\n",
       "    .dataframe thead th {\n",
       "        text-align: right;\n",
       "    }\n",
       "</style>\n",
       "<table border=\"1\" class=\"dataframe\">\n",
       "  <thead>\n",
       "    <tr style=\"text-align: right;\">\n",
       "      <th></th>\n",
       "      <th>key</th>\n",
       "      <th>Bulk 1</th>\n",
       "      <th>Bulk 2</th>\n",
       "      <th>Bulk 3</th>\n",
       "      <th>Bulk 4</th>\n",
       "      <th>Bulk 5</th>\n",
       "      <th>Bulk 6</th>\n",
       "      <th>Bulk 7</th>\n",
       "      <th>Bulk 8</th>\n",
       "      <th>Bulk 9</th>\n",
       "      <th>Bulk 10</th>\n",
       "      <th>Bulk 11</th>\n",
       "      <th>Bulk 12</th>\n",
       "      <th>Bulk 13</th>\n",
       "      <th>Bulk 14</th>\n",
       "      <th>Bulk 15</th>\n",
       "    </tr>\n",
       "  </thead>\n",
       "  <tbody>\n",
       "    <tr>\n",
       "      <th>1174</th>\n",
       "      <td>1223</td>\n",
       "      <td>NaN</td>\n",
       "      <td>NaN</td>\n",
       "      <td>NaN</td>\n",
       "      <td>NaN</td>\n",
       "      <td>NaN</td>\n",
       "      <td>NaN</td>\n",
       "      <td>NaN</td>\n",
       "      <td>NaN</td>\n",
       "      <td>NaN</td>\n",
       "      <td>NaN</td>\n",
       "      <td>NaN</td>\n",
       "      <td>NaN</td>\n",
       "      <td>NaN</td>\n",
       "      <td>2019-06-18 16:33:17</td>\n",
       "      <td>NaN</td>\n",
       "    </tr>\n",
       "    <tr>\n",
       "      <th>1348</th>\n",
       "      <td>1400</td>\n",
       "      <td>NaN</td>\n",
       "      <td>NaN</td>\n",
       "      <td>2019-06-25 05:12:09</td>\n",
       "      <td>NaN</td>\n",
       "      <td>NaN</td>\n",
       "      <td>NaN</td>\n",
       "      <td>NaN</td>\n",
       "      <td>NaN</td>\n",
       "      <td>NaN</td>\n",
       "      <td>NaN</td>\n",
       "      <td>NaN</td>\n",
       "      <td>2019-06-25 05:06:23</td>\n",
       "      <td>NaN</td>\n",
       "      <td>2019-06-25 05:01:01</td>\n",
       "      <td>2019-06-25 04:54:16</td>\n",
       "    </tr>\n",
       "    <tr>\n",
       "      <th>2512</th>\n",
       "      <td>2607</td>\n",
       "      <td>2019-08-14 16:26:27</td>\n",
       "      <td>NaN</td>\n",
       "      <td>NaN</td>\n",
       "      <td>NaN</td>\n",
       "      <td>NaN</td>\n",
       "      <td>NaN</td>\n",
       "      <td>NaN</td>\n",
       "      <td>NaN</td>\n",
       "      <td>NaN</td>\n",
       "      <td>NaN</td>\n",
       "      <td>NaN</td>\n",
       "      <td>2019-08-14 16:20:30</td>\n",
       "      <td>NaN</td>\n",
       "      <td>2019-08-14 16:13:37</td>\n",
       "      <td>NaN</td>\n",
       "    </tr>\n",
       "    <tr>\n",
       "      <th>866</th>\n",
       "      <td>902</td>\n",
       "      <td>NaN</td>\n",
       "      <td>NaN</td>\n",
       "      <td>NaN</td>\n",
       "      <td>NaN</td>\n",
       "      <td>NaN</td>\n",
       "      <td>2019-06-07 08:47:00</td>\n",
       "      <td>NaN</td>\n",
       "      <td>NaN</td>\n",
       "      <td>NaN</td>\n",
       "      <td>NaN</td>\n",
       "      <td>2019-06-07 08:42:42</td>\n",
       "      <td>2019-06-07 08:30:28</td>\n",
       "      <td>NaN</td>\n",
       "      <td>2019-06-07 08:27:04</td>\n",
       "      <td>2019-06-07 08:24:00</td>\n",
       "    </tr>\n",
       "    <tr>\n",
       "      <th>1975</th>\n",
       "      <td>2045</td>\n",
       "      <td>NaN</td>\n",
       "      <td>NaN</td>\n",
       "      <td>NaN</td>\n",
       "      <td>NaN</td>\n",
       "      <td>NaN</td>\n",
       "      <td>NaN</td>\n",
       "      <td>NaN</td>\n",
       "      <td>NaN</td>\n",
       "      <td>NaN</td>\n",
       "      <td>NaN</td>\n",
       "      <td>NaN</td>\n",
       "      <td>2019-07-25 01:49:05</td>\n",
       "      <td>NaN</td>\n",
       "      <td>2019-07-25 01:49:05</td>\n",
       "      <td>2019-07-25 01:42:05</td>\n",
       "    </tr>\n",
       "  </tbody>\n",
       "</table>\n",
       "</div>"
      ],
      "text/plain": [
       "       key               Bulk 1 Bulk 2               Bulk 3 Bulk 4 Bulk 5  \\\n",
       "1174  1223                  NaN    NaN                  NaN    NaN    NaN   \n",
       "1348  1400                  NaN    NaN  2019-06-25 05:12:09    NaN    NaN   \n",
       "2512  2607  2019-08-14 16:26:27    NaN                  NaN    NaN    NaN   \n",
       "866    902                  NaN    NaN                  NaN    NaN    NaN   \n",
       "1975  2045                  NaN    NaN                  NaN    NaN    NaN   \n",
       "\n",
       "                   Bulk 6 Bulk 7 Bulk 8 Bulk 9 Bulk 10              Bulk 11  \\\n",
       "1174                  NaN    NaN    NaN    NaN     NaN                  NaN   \n",
       "1348                  NaN    NaN    NaN    NaN     NaN                  NaN   \n",
       "2512                  NaN    NaN    NaN    NaN     NaN                  NaN   \n",
       "866   2019-06-07 08:47:00    NaN    NaN    NaN     NaN  2019-06-07 08:42:42   \n",
       "1975                  NaN    NaN    NaN    NaN     NaN                  NaN   \n",
       "\n",
       "                  Bulk 12 Bulk 13              Bulk 14              Bulk 15  \n",
       "1174                  NaN     NaN  2019-06-18 16:33:17                  NaN  \n",
       "1348  2019-06-25 05:06:23     NaN  2019-06-25 05:01:01  2019-06-25 04:54:16  \n",
       "2512  2019-08-14 16:20:30     NaN  2019-08-14 16:13:37                  NaN  \n",
       "866   2019-06-07 08:30:28     NaN  2019-06-07 08:27:04  2019-06-07 08:24:00  \n",
       "1975  2019-07-25 01:49:05     NaN  2019-07-25 01:49:05  2019-07-25 01:42:05  "
      ]
     },
     "execution_count": 9,
     "metadata": {},
     "output_type": "execute_result"
    }
   ],
   "source": [
    "bulk_time_new.info()\n",
    "bulk_time_new.sample(5)"
   ]
  },
  {
   "cell_type": "code",
   "execution_count": 10,
   "id": "16cab151",
   "metadata": {},
   "outputs": [
    {
     "name": "stdout",
     "output_type": "stream",
     "text": [
      "<class 'pandas.core.frame.DataFrame'>\n",
      "RangeIndex: 3239 entries, 0 to 3238\n",
      "Data columns (total 2 columns):\n",
      " #   Column  Non-Null Count  Dtype  \n",
      "---  ------  --------------  -----  \n",
      " 0   key     3239 non-null   int64  \n",
      " 1   Газ 1   3239 non-null   float64\n",
      "dtypes: float64(1), int64(1)\n",
      "memory usage: 50.7 KB\n"
     ]
    },
    {
     "data": {
      "text/html": [
       "<div>\n",
       "<style scoped>\n",
       "    .dataframe tbody tr th:only-of-type {\n",
       "        vertical-align: middle;\n",
       "    }\n",
       "\n",
       "    .dataframe tbody tr th {\n",
       "        vertical-align: top;\n",
       "    }\n",
       "\n",
       "    .dataframe thead th {\n",
       "        text-align: right;\n",
       "    }\n",
       "</style>\n",
       "<table border=\"1\" class=\"dataframe\">\n",
       "  <thead>\n",
       "    <tr style=\"text-align: right;\">\n",
       "      <th></th>\n",
       "      <th>key</th>\n",
       "      <th>Газ 1</th>\n",
       "    </tr>\n",
       "  </thead>\n",
       "  <tbody>\n",
       "    <tr>\n",
       "      <th>483</th>\n",
       "      <td>486</td>\n",
       "      <td>19.213015</td>\n",
       "    </tr>\n",
       "    <tr>\n",
       "      <th>163</th>\n",
       "      <td>164</td>\n",
       "      <td>12.545387</td>\n",
       "    </tr>\n",
       "    <tr>\n",
       "      <th>600</th>\n",
       "      <td>603</td>\n",
       "      <td>12.335301</td>\n",
       "    </tr>\n",
       "    <tr>\n",
       "      <th>3150</th>\n",
       "      <td>3153</td>\n",
       "      <td>6.359977</td>\n",
       "    </tr>\n",
       "    <tr>\n",
       "      <th>1686</th>\n",
       "      <td>1689</td>\n",
       "      <td>33.597044</td>\n",
       "    </tr>\n",
       "  </tbody>\n",
       "</table>\n",
       "</div>"
      ],
      "text/plain": [
       "       key      Газ 1\n",
       "483    486  19.213015\n",
       "163    164  12.545387\n",
       "600    603  12.335301\n",
       "3150  3153   6.359977\n",
       "1686  1689  33.597044"
      ]
     },
     "execution_count": 10,
     "metadata": {},
     "output_type": "execute_result"
    }
   ],
   "source": [
    "gas_new.info()\n",
    "gas_new.sample(5)"
   ]
  },
  {
   "cell_type": "code",
   "execution_count": 11,
   "id": "34612e10",
   "metadata": {},
   "outputs": [
    {
     "name": "stdout",
     "output_type": "stream",
     "text": [
      "<class 'pandas.core.frame.DataFrame'>\n",
      "RangeIndex: 18092 entries, 0 to 18091\n",
      "Data columns (total 3 columns):\n",
      " #   Column        Non-Null Count  Dtype  \n",
      "---  ------        --------------  -----  \n",
      " 0   key           18092 non-null  int64  \n",
      " 1   Время замера  18092 non-null  object \n",
      " 2   Температура   14665 non-null  float64\n",
      "dtypes: float64(1), int64(1), object(1)\n",
      "memory usage: 424.2+ KB\n"
     ]
    },
    {
     "data": {
      "text/html": [
       "<div>\n",
       "<style scoped>\n",
       "    .dataframe tbody tr th:only-of-type {\n",
       "        vertical-align: middle;\n",
       "    }\n",
       "\n",
       "    .dataframe tbody tr th {\n",
       "        vertical-align: top;\n",
       "    }\n",
       "\n",
       "    .dataframe thead th {\n",
       "        text-align: right;\n",
       "    }\n",
       "</style>\n",
       "<table border=\"1\" class=\"dataframe\">\n",
       "  <thead>\n",
       "    <tr style=\"text-align: right;\">\n",
       "      <th></th>\n",
       "      <th>key</th>\n",
       "      <th>Время замера</th>\n",
       "      <th>Температура</th>\n",
       "    </tr>\n",
       "  </thead>\n",
       "  <tbody>\n",
       "    <tr>\n",
       "      <th>15134</th>\n",
       "      <td>2707</td>\n",
       "      <td>2019-08-18 05:11:17</td>\n",
       "      <td>NaN</td>\n",
       "    </tr>\n",
       "    <tr>\n",
       "      <th>14878</th>\n",
       "      <td>2658</td>\n",
       "      <td>2019-08-16 15:38:21</td>\n",
       "      <td>NaN</td>\n",
       "    </tr>\n",
       "    <tr>\n",
       "      <th>16646</th>\n",
       "      <td>2971</td>\n",
       "      <td>2019-08-28 10:55:40</td>\n",
       "      <td>NaN</td>\n",
       "    </tr>\n",
       "    <tr>\n",
       "      <th>16</th>\n",
       "      <td>3</td>\n",
       "      <td>2019-05-03 12:35:57</td>\n",
       "      <td>1599.0</td>\n",
       "    </tr>\n",
       "    <tr>\n",
       "      <th>16019</th>\n",
       "      <td>2864</td>\n",
       "      <td>2019-08-24 05:18:15</td>\n",
       "      <td>NaN</td>\n",
       "    </tr>\n",
       "  </tbody>\n",
       "</table>\n",
       "</div>"
      ],
      "text/plain": [
       "        key         Время замера  Температура\n",
       "15134  2707  2019-08-18 05:11:17          NaN\n",
       "14878  2658  2019-08-16 15:38:21          NaN\n",
       "16646  2971  2019-08-28 10:55:40          NaN\n",
       "16        3  2019-05-03 12:35:57       1599.0\n",
       "16019  2864  2019-08-24 05:18:15          NaN"
      ]
     },
     "execution_count": 11,
     "metadata": {},
     "output_type": "execute_result"
    }
   ],
   "source": [
    "temp_new.info()\n",
    "temp_new.sample(5)"
   ]
  },
  {
   "cell_type": "code",
   "execution_count": 12,
   "id": "08e09c1b",
   "metadata": {},
   "outputs": [
    {
     "name": "stdout",
     "output_type": "stream",
     "text": [
      "<class 'pandas.core.frame.DataFrame'>\n",
      "RangeIndex: 18092 entries, 0 to 18091\n",
      "Data columns (total 3 columns):\n",
      " #   Column        Non-Null Count  Dtype  \n",
      "---  ------        --------------  -----  \n",
      " 0   key           18092 non-null  int64  \n",
      " 1   Время замера  18092 non-null  object \n",
      " 2   Температура   14665 non-null  float64\n",
      "dtypes: float64(1), int64(1), object(1)\n",
      "memory usage: 424.2+ KB\n"
     ]
    },
    {
     "data": {
      "text/html": [
       "<div>\n",
       "<style scoped>\n",
       "    .dataframe tbody tr th:only-of-type {\n",
       "        vertical-align: middle;\n",
       "    }\n",
       "\n",
       "    .dataframe tbody tr th {\n",
       "        vertical-align: top;\n",
       "    }\n",
       "\n",
       "    .dataframe thead th {\n",
       "        text-align: right;\n",
       "    }\n",
       "</style>\n",
       "<table border=\"1\" class=\"dataframe\">\n",
       "  <thead>\n",
       "    <tr style=\"text-align: right;\">\n",
       "      <th></th>\n",
       "      <th>key</th>\n",
       "      <th>Время замера</th>\n",
       "      <th>Температура</th>\n",
       "    </tr>\n",
       "  </thead>\n",
       "  <tbody>\n",
       "    <tr>\n",
       "      <th>11596</th>\n",
       "      <td>2068</td>\n",
       "      <td>2019-07-26 00:01:58</td>\n",
       "      <td>1596.0</td>\n",
       "    </tr>\n",
       "    <tr>\n",
       "      <th>5564</th>\n",
       "      <td>990</td>\n",
       "      <td>2019-06-10 17:27:29</td>\n",
       "      <td>1581.0</td>\n",
       "    </tr>\n",
       "    <tr>\n",
       "      <th>13425</th>\n",
       "      <td>2402</td>\n",
       "      <td>2019-08-07 04:17:34</td>\n",
       "      <td>1587.0</td>\n",
       "    </tr>\n",
       "    <tr>\n",
       "      <th>5887</th>\n",
       "      <td>1047</td>\n",
       "      <td>2019-06-12 17:57:37</td>\n",
       "      <td>1612.0</td>\n",
       "    </tr>\n",
       "    <tr>\n",
       "      <th>14989</th>\n",
       "      <td>2679</td>\n",
       "      <td>2019-08-17 06:46:43</td>\n",
       "      <td>1564.0</td>\n",
       "    </tr>\n",
       "  </tbody>\n",
       "</table>\n",
       "</div>"
      ],
      "text/plain": [
       "        key         Время замера  Температура\n",
       "11596  2068  2019-07-26 00:01:58       1596.0\n",
       "5564    990  2019-06-10 17:27:29       1581.0\n",
       "13425  2402  2019-08-07 04:17:34       1587.0\n",
       "5887   1047  2019-06-12 17:57:37       1612.0\n",
       "14989  2679  2019-08-17 06:46:43       1564.0"
      ]
     },
     "execution_count": 12,
     "metadata": {},
     "output_type": "execute_result"
    }
   ],
   "source": [
    "wire_time_new.info()\n",
    "wire_time_new.sample(5)"
   ]
  },
  {
   "cell_type": "markdown",
   "id": "bedaeb28",
   "metadata": {},
   "source": [
    "# 3.Исследовательский анализ и предобработка данных"
   ]
  },
  {
   "cell_type": "markdown",
   "id": "67c48df0",
   "metadata": {},
   "source": [
    "## 3.1 Предобработка данных"
   ]
  },
  {
   "cell_type": "markdown",
   "id": "c85bb7c1",
   "metadata": {},
   "source": [
    "**arc_new**"
   ]
  },
  {
   "cell_type": "markdown",
   "id": "96b2579a",
   "metadata": {},
   "source": [
    "Приведем наименования признаков в соответствие со snake_case"
   ]
  },
  {
   "cell_type": "code",
   "execution_count": 13,
   "id": "8fe92e81",
   "metadata": {},
   "outputs": [],
   "source": [
    "arc_new.columns = ['key', 'start_of_heating', 'end_of_heating', 'active_power', 'reactive_power']"
   ]
  },
  {
   "cell_type": "code",
   "execution_count": 14,
   "id": "49f397ef",
   "metadata": {},
   "outputs": [
    {
     "name": "stdout",
     "output_type": "stream",
     "text": [
      "<class 'pandas.core.frame.DataFrame'>\n",
      "RangeIndex: 14876 entries, 0 to 14875\n",
      "Data columns (total 5 columns):\n",
      " #   Column            Non-Null Count  Dtype  \n",
      "---  ------            --------------  -----  \n",
      " 0   key               14876 non-null  int64  \n",
      " 1   start_of_heating  14876 non-null  object \n",
      " 2   end_of_heating    14876 non-null  object \n",
      " 3   active_power      14876 non-null  float64\n",
      " 4   reactive_power    14876 non-null  float64\n",
      "dtypes: float64(2), int64(1), object(2)\n",
      "memory usage: 581.2+ KB\n"
     ]
    }
   ],
   "source": [
    "arc_new.info()"
   ]
  },
  {
   "cell_type": "markdown",
   "id": "85d938ac",
   "metadata": {},
   "source": [
    "Приведем время к date_time"
   ]
  },
  {
   "cell_type": "code",
   "execution_count": 15,
   "id": "a3734fb3",
   "metadata": {},
   "outputs": [
    {
     "name": "stderr",
     "output_type": "stream",
     "text": [
      "/var/folders/5m/tbwsb3vs6734vbbw653my9v00000gp/T/ipykernel_14090/1436999925.py:1: UserWarning: The argument 'infer_datetime_format' is deprecated and will be removed in a future version. A strict version of it is now the default, see https://pandas.pydata.org/pdeps/0004-consistent-to-datetime-parsing.html. You can safely remove this argument.\n",
      "  arc_new.start_of_heating = pd.to_datetime(arc_new.start_of_heating, infer_datetime_format = True)\n",
      "/var/folders/5m/tbwsb3vs6734vbbw653my9v00000gp/T/ipykernel_14090/1436999925.py:2: UserWarning: The argument 'infer_datetime_format' is deprecated and will be removed in a future version. A strict version of it is now the default, see https://pandas.pydata.org/pdeps/0004-consistent-to-datetime-parsing.html. You can safely remove this argument.\n",
      "  arc_new.end_of_heating = pd.to_datetime(arc_new.end_of_heating, infer_datetime_format = True)\n"
     ]
    }
   ],
   "source": [
    "arc_new.start_of_heating = pd.to_datetime(arc_new.start_of_heating, infer_datetime_format = True) \n",
    "arc_new.end_of_heating = pd.to_datetime(arc_new.end_of_heating, infer_datetime_format = True) "
   ]
  },
  {
   "cell_type": "code",
   "execution_count": 16,
   "id": "9d8f2d0f",
   "metadata": {},
   "outputs": [
    {
     "name": "stdout",
     "output_type": "stream",
     "text": [
      "<class 'pandas.core.frame.DataFrame'>\n",
      "RangeIndex: 14876 entries, 0 to 14875\n",
      "Data columns (total 5 columns):\n",
      " #   Column            Non-Null Count  Dtype         \n",
      "---  ------            --------------  -----         \n",
      " 0   key               14876 non-null  int64         \n",
      " 1   start_of_heating  14876 non-null  datetime64[ns]\n",
      " 2   end_of_heating    14876 non-null  datetime64[ns]\n",
      " 3   active_power      14876 non-null  float64       \n",
      " 4   reactive_power    14876 non-null  float64       \n",
      "dtypes: datetime64[ns](2), float64(2), int64(1)\n",
      "memory usage: 581.2 KB\n"
     ]
    },
    {
     "data": {
      "text/html": [
       "<div>\n",
       "<style scoped>\n",
       "    .dataframe tbody tr th:only-of-type {\n",
       "        vertical-align: middle;\n",
       "    }\n",
       "\n",
       "    .dataframe tbody tr th {\n",
       "        vertical-align: top;\n",
       "    }\n",
       "\n",
       "    .dataframe thead th {\n",
       "        text-align: right;\n",
       "    }\n",
       "</style>\n",
       "<table border=\"1\" class=\"dataframe\">\n",
       "  <thead>\n",
       "    <tr style=\"text-align: right;\">\n",
       "      <th></th>\n",
       "      <th>key</th>\n",
       "      <th>start_of_heating</th>\n",
       "      <th>end_of_heating</th>\n",
       "      <th>active_power</th>\n",
       "      <th>reactive_power</th>\n",
       "    </tr>\n",
       "  </thead>\n",
       "  <tbody>\n",
       "    <tr>\n",
       "      <th>7498</th>\n",
       "      <td>1631</td>\n",
       "      <td>2019-07-03 10:42:30</td>\n",
       "      <td>2019-07-03 10:45:35</td>\n",
       "      <td>0.766332</td>\n",
       "      <td>0.572820</td>\n",
       "    </tr>\n",
       "    <tr>\n",
       "      <th>11445</th>\n",
       "      <td>2499</td>\n",
       "      <td>2019-08-10 13:33:31</td>\n",
       "      <td>2019-08-10 13:38:43</td>\n",
       "      <td>0.700677</td>\n",
       "      <td>0.534767</td>\n",
       "    </tr>\n",
       "    <tr>\n",
       "      <th>8149</th>\n",
       "      <td>1769</td>\n",
       "      <td>2019-07-08 06:25:32</td>\n",
       "      <td>2019-07-08 06:27:48</td>\n",
       "      <td>0.603825</td>\n",
       "      <td>0.418942</td>\n",
       "    </tr>\n",
       "    <tr>\n",
       "      <th>12261</th>\n",
       "      <td>2662</td>\n",
       "      <td>2019-08-16 19:41:15</td>\n",
       "      <td>2019-08-16 19:43:15</td>\n",
       "      <td>0.252051</td>\n",
       "      <td>0.192502</td>\n",
       "    </tr>\n",
       "    <tr>\n",
       "      <th>457</th>\n",
       "      <td>98</td>\n",
       "      <td>2019-05-07 01:50:37</td>\n",
       "      <td>2019-05-07 01:51:52</td>\n",
       "      <td>0.410599</td>\n",
       "      <td>0.277339</td>\n",
       "    </tr>\n",
       "  </tbody>\n",
       "</table>\n",
       "</div>"
      ],
      "text/plain": [
       "        key    start_of_heating      end_of_heating  active_power  \\\n",
       "7498   1631 2019-07-03 10:42:30 2019-07-03 10:45:35      0.766332   \n",
       "11445  2499 2019-08-10 13:33:31 2019-08-10 13:38:43      0.700677   \n",
       "8149   1769 2019-07-08 06:25:32 2019-07-08 06:27:48      0.603825   \n",
       "12261  2662 2019-08-16 19:41:15 2019-08-16 19:43:15      0.252051   \n",
       "457      98 2019-05-07 01:50:37 2019-05-07 01:51:52      0.410599   \n",
       "\n",
       "       reactive_power  \n",
       "7498         0.572820  \n",
       "11445        0.534767  \n",
       "8149         0.418942  \n",
       "12261        0.192502  \n",
       "457          0.277339  "
      ]
     },
     "execution_count": 16,
     "metadata": {},
     "output_type": "execute_result"
    }
   ],
   "source": [
    "arc_new.info()\n",
    "arc_new.sample(5)"
   ]
  },
  {
   "cell_type": "markdown",
   "id": "9e75ebc1",
   "metadata": {},
   "source": [
    "Проверим пропуски"
   ]
  },
  {
   "cell_type": "code",
   "execution_count": 17,
   "id": "beb6315f",
   "metadata": {},
   "outputs": [
    {
     "data": {
      "text/plain": [
       "key                 0\n",
       "start_of_heating    0\n",
       "end_of_heating      0\n",
       "active_power        0\n",
       "reactive_power      0\n",
       "dtype: int64"
      ]
     },
     "execution_count": 17,
     "metadata": {},
     "output_type": "execute_result"
    }
   ],
   "source": [
    "arc_new.isna().sum()"
   ]
  },
  {
   "cell_type": "markdown",
   "id": "f85387cb",
   "metadata": {},
   "source": [
    "Пропусков нет"
   ]
  },
  {
   "cell_type": "markdown",
   "id": "f11c013d",
   "metadata": {},
   "source": [
    "Проверим дубликаты"
   ]
  },
  {
   "cell_type": "code",
   "execution_count": 18,
   "id": "62760448",
   "metadata": {},
   "outputs": [
    {
     "data": {
      "text/plain": [
       "0"
      ]
     },
     "execution_count": 18,
     "metadata": {},
     "output_type": "execute_result"
    }
   ],
   "source": [
    "arc_new.duplicated().sum()"
   ]
  },
  {
   "cell_type": "markdown",
   "id": "9a694171",
   "metadata": {},
   "source": [
    "Явных дубликатов нет"
   ]
  },
  {
   "cell_type": "code",
   "execution_count": 19,
   "id": "aaa077ea",
   "metadata": {},
   "outputs": [
    {
     "data": {
      "text/html": [
       "<div>\n",
       "<style scoped>\n",
       "    .dataframe tbody tr th:only-of-type {\n",
       "        vertical-align: middle;\n",
       "    }\n",
       "\n",
       "    .dataframe tbody tr th {\n",
       "        vertical-align: top;\n",
       "    }\n",
       "\n",
       "    .dataframe thead th {\n",
       "        text-align: right;\n",
       "    }\n",
       "</style>\n",
       "<table border=\"1\" class=\"dataframe\">\n",
       "  <thead>\n",
       "    <tr style=\"text-align: right;\">\n",
       "      <th></th>\n",
       "      <th>key</th>\n",
       "      <th>start_of_heating</th>\n",
       "      <th>end_of_heating</th>\n",
       "      <th>active_power</th>\n",
       "      <th>reactive_power</th>\n",
       "    </tr>\n",
       "  </thead>\n",
       "  <tbody>\n",
       "    <tr>\n",
       "      <th>count</th>\n",
       "      <td>14876.000000</td>\n",
       "      <td>14876</td>\n",
       "      <td>14876</td>\n",
       "      <td>14876.000000</td>\n",
       "      <td>14876.000000</td>\n",
       "    </tr>\n",
       "    <tr>\n",
       "      <th>mean</th>\n",
       "      <td>1615.220422</td>\n",
       "      <td>2019-07-05 12:25:51.921081088</td>\n",
       "      <td>2019-07-05 12:28:43.592027392</td>\n",
       "      <td>0.662752</td>\n",
       "      <td>0.438986</td>\n",
       "    </tr>\n",
       "    <tr>\n",
       "      <th>min</th>\n",
       "      <td>1.000000</td>\n",
       "      <td>2019-05-03 11:02:14</td>\n",
       "      <td>2019-05-03 11:06:02</td>\n",
       "      <td>0.223120</td>\n",
       "      <td>-715.479924</td>\n",
       "    </tr>\n",
       "    <tr>\n",
       "      <th>25%</th>\n",
       "      <td>806.000000</td>\n",
       "      <td>2019-06-03 23:18:23.249999872</td>\n",
       "      <td>2019-06-03 23:21:35</td>\n",
       "      <td>0.467115</td>\n",
       "      <td>0.337175</td>\n",
       "    </tr>\n",
       "    <tr>\n",
       "      <th>50%</th>\n",
       "      <td>1617.000000</td>\n",
       "      <td>2019-07-03 01:31:26.500000</td>\n",
       "      <td>2019-07-03 01:35:13</td>\n",
       "      <td>0.599587</td>\n",
       "      <td>0.441639</td>\n",
       "    </tr>\n",
       "    <tr>\n",
       "      <th>75%</th>\n",
       "      <td>2429.000000</td>\n",
       "      <td>2019-08-07 22:52:20.750000128</td>\n",
       "      <td>2019-08-07 22:56:47</td>\n",
       "      <td>0.830070</td>\n",
       "      <td>0.608201</td>\n",
       "    </tr>\n",
       "    <tr>\n",
       "      <th>max</th>\n",
       "      <td>3241.000000</td>\n",
       "      <td>2019-09-06 17:24:54</td>\n",
       "      <td>2019-09-06 17:26:15</td>\n",
       "      <td>1.463773</td>\n",
       "      <td>1.270284</td>\n",
       "    </tr>\n",
       "    <tr>\n",
       "      <th>std</th>\n",
       "      <td>934.571502</td>\n",
       "      <td>NaN</td>\n",
       "      <td>NaN</td>\n",
       "      <td>0.258885</td>\n",
       "      <td>5.873485</td>\n",
       "    </tr>\n",
       "  </tbody>\n",
       "</table>\n",
       "</div>"
      ],
      "text/plain": [
       "                key               start_of_heating  \\\n",
       "count  14876.000000                          14876   \n",
       "mean    1615.220422  2019-07-05 12:25:51.921081088   \n",
       "min        1.000000            2019-05-03 11:02:14   \n",
       "25%      806.000000  2019-06-03 23:18:23.249999872   \n",
       "50%     1617.000000     2019-07-03 01:31:26.500000   \n",
       "75%     2429.000000  2019-08-07 22:52:20.750000128   \n",
       "max     3241.000000            2019-09-06 17:24:54   \n",
       "std      934.571502                            NaN   \n",
       "\n",
       "                      end_of_heating  active_power  reactive_power  \n",
       "count                          14876  14876.000000    14876.000000  \n",
       "mean   2019-07-05 12:28:43.592027392      0.662752        0.438986  \n",
       "min              2019-05-03 11:06:02      0.223120     -715.479924  \n",
       "25%              2019-06-03 23:21:35      0.467115        0.337175  \n",
       "50%              2019-07-03 01:35:13      0.599587        0.441639  \n",
       "75%              2019-08-07 22:56:47      0.830070        0.608201  \n",
       "max              2019-09-06 17:26:15      1.463773        1.270284  \n",
       "std                              NaN      0.258885        5.873485  "
      ]
     },
     "execution_count": 19,
     "metadata": {},
     "output_type": "execute_result"
    }
   ],
   "source": [
    "arc_new.describe()"
   ]
  },
  {
   "cell_type": "markdown",
   "id": "1e2c95c4",
   "metadata": {},
   "source": [
    "значения меньше 0 для реактивной мощности явно ошибочны"
   ]
  },
  {
   "cell_type": "code",
   "execution_count": 20,
   "id": "9212ade8",
   "metadata": {},
   "outputs": [
    {
     "data": {
      "text/plain": [
       "key                 14875\n",
       "start_of_heating    14875\n",
       "end_of_heating      14875\n",
       "active_power        14875\n",
       "reactive_power      14875\n",
       "dtype: int64"
      ]
     },
     "execution_count": 20,
     "metadata": {},
     "output_type": "execute_result"
    }
   ],
   "source": [
    "arc_new[arc_new.reactive_power > 0].count()"
   ]
  },
  {
   "cell_type": "code",
   "execution_count": 21,
   "id": "61c0e15e",
   "metadata": {},
   "outputs": [],
   "source": [
    "arc_new = arc_new[arc_new.reactive_power > 0]"
   ]
  },
  {
   "cell_type": "code",
   "execution_count": 22,
   "id": "fced104e",
   "metadata": {},
   "outputs": [
    {
     "data": {
      "text/html": [
       "<div>\n",
       "<style scoped>\n",
       "    .dataframe tbody tr th:only-of-type {\n",
       "        vertical-align: middle;\n",
       "    }\n",
       "\n",
       "    .dataframe tbody tr th {\n",
       "        vertical-align: top;\n",
       "    }\n",
       "\n",
       "    .dataframe thead th {\n",
       "        text-align: right;\n",
       "    }\n",
       "</style>\n",
       "<table border=\"1\" class=\"dataframe\">\n",
       "  <thead>\n",
       "    <tr style=\"text-align: right;\">\n",
       "      <th></th>\n",
       "      <th>key</th>\n",
       "      <th>start_of_heating</th>\n",
       "      <th>end_of_heating</th>\n",
       "      <th>active_power</th>\n",
       "      <th>reactive_power</th>\n",
       "    </tr>\n",
       "  </thead>\n",
       "  <tbody>\n",
       "    <tr>\n",
       "      <th>count</th>\n",
       "      <td>14875.000000</td>\n",
       "      <td>14875</td>\n",
       "      <td>14875</td>\n",
       "      <td>14875.000000</td>\n",
       "      <td>14875.000000</td>\n",
       "    </tr>\n",
       "    <tr>\n",
       "      <th>mean</th>\n",
       "      <td>1615.186756</td>\n",
       "      <td>2019-07-05 12:23:40.763025152</td>\n",
       "      <td>2019-07-05 12:26:32.438184960</td>\n",
       "      <td>0.662749</td>\n",
       "      <td>0.487115</td>\n",
       "    </tr>\n",
       "    <tr>\n",
       "      <th>min</th>\n",
       "      <td>1.000000</td>\n",
       "      <td>2019-05-03 11:02:14</td>\n",
       "      <td>2019-05-03 11:06:02</td>\n",
       "      <td>0.223120</td>\n",
       "      <td>0.153777</td>\n",
       "    </tr>\n",
       "    <tr>\n",
       "      <th>25%</th>\n",
       "      <td>806.000000</td>\n",
       "      <td>2019-06-03 23:13:02.500000</td>\n",
       "      <td>2019-06-03 23:16:13</td>\n",
       "      <td>0.467115</td>\n",
       "      <td>0.337190</td>\n",
       "    </tr>\n",
       "    <tr>\n",
       "      <th>50%</th>\n",
       "      <td>1617.000000</td>\n",
       "      <td>2019-07-03 01:28:12</td>\n",
       "      <td>2019-07-03 01:31:27</td>\n",
       "      <td>0.599578</td>\n",
       "      <td>0.441665</td>\n",
       "    </tr>\n",
       "    <tr>\n",
       "      <th>75%</th>\n",
       "      <td>2429.000000</td>\n",
       "      <td>2019-08-07 22:54:16.500000</td>\n",
       "      <td>2019-08-07 22:57:54</td>\n",
       "      <td>0.830135</td>\n",
       "      <td>0.608223</td>\n",
       "    </tr>\n",
       "    <tr>\n",
       "      <th>max</th>\n",
       "      <td>3241.000000</td>\n",
       "      <td>2019-09-06 17:24:54</td>\n",
       "      <td>2019-09-06 17:26:15</td>\n",
       "      <td>1.463773</td>\n",
       "      <td>1.270284</td>\n",
       "    </tr>\n",
       "    <tr>\n",
       "      <th>std</th>\n",
       "      <td>934.593897</td>\n",
       "      <td>NaN</td>\n",
       "      <td>NaN</td>\n",
       "      <td>0.258894</td>\n",
       "      <td>0.197612</td>\n",
       "    </tr>\n",
       "  </tbody>\n",
       "</table>\n",
       "</div>"
      ],
      "text/plain": [
       "                key               start_of_heating  \\\n",
       "count  14875.000000                          14875   \n",
       "mean    1615.186756  2019-07-05 12:23:40.763025152   \n",
       "min        1.000000            2019-05-03 11:02:14   \n",
       "25%      806.000000     2019-06-03 23:13:02.500000   \n",
       "50%     1617.000000            2019-07-03 01:28:12   \n",
       "75%     2429.000000     2019-08-07 22:54:16.500000   \n",
       "max     3241.000000            2019-09-06 17:24:54   \n",
       "std      934.593897                            NaN   \n",
       "\n",
       "                      end_of_heating  active_power  reactive_power  \n",
       "count                          14875  14875.000000    14875.000000  \n",
       "mean   2019-07-05 12:26:32.438184960      0.662749        0.487115  \n",
       "min              2019-05-03 11:06:02      0.223120        0.153777  \n",
       "25%              2019-06-03 23:16:13      0.467115        0.337190  \n",
       "50%              2019-07-03 01:31:27      0.599578        0.441665  \n",
       "75%              2019-08-07 22:57:54      0.830135        0.608223  \n",
       "max              2019-09-06 17:26:15      1.463773        1.270284  \n",
       "std                              NaN      0.258894        0.197612  "
      ]
     },
     "execution_count": 22,
     "metadata": {},
     "output_type": "execute_result"
    }
   ],
   "source": [
    "arc_new.describe()"
   ]
  },
  {
   "cell_type": "markdown",
   "id": "4011fef1",
   "metadata": {},
   "source": [
    "**bulk_new**"
   ]
  },
  {
   "cell_type": "markdown",
   "id": "4fa5bd5c",
   "metadata": {},
   "source": [
    "Проверим пропуски"
   ]
  },
  {
   "cell_type": "code",
   "execution_count": 24,
   "id": "d38caa3b",
   "metadata": {},
   "outputs": [
    {
     "data": {
      "text/plain": [
       "key           0\n",
       "Bulk 1     2877\n",
       "Bulk 2     3107\n",
       "Bulk 3     1831\n",
       "Bulk 4     2115\n",
       "Bulk 5     3052\n",
       "Bulk 6     2553\n",
       "Bulk 7     3104\n",
       "Bulk 8     3128\n",
       "Bulk 9     3110\n",
       "Bulk 10    2953\n",
       "Bulk 11    2952\n",
       "Bulk 12     679\n",
       "Bulk 13    3111\n",
       "Bulk 14     323\n",
       "Bulk 15     881\n",
       "dtype: int64"
      ]
     },
     "execution_count": 24,
     "metadata": {},
     "output_type": "execute_result"
    }
   ],
   "source": [
    "bulk_new.isna().sum()"
   ]
  },
  {
   "cell_type": "markdown",
   "id": "f7b66593",
   "metadata": {},
   "source": [
    "Скорее всего пропуски связаны с тем, что в указанные плавки материалы не подавались (Объем 0). Логично заполнить данные пропуски 0"
   ]
  },
  {
   "cell_type": "code",
   "execution_count": 26,
   "id": "20a50212",
   "metadata": {},
   "outputs": [],
   "source": [
    "bulk_new = bulk_new.fillna(0)"
   ]
  },
  {
   "cell_type": "code",
   "execution_count": 27,
   "id": "79302699",
   "metadata": {},
   "outputs": [
    {
     "data": {
      "text/plain": [
       "key        0\n",
       "Bulk 1     0\n",
       "Bulk 2     0\n",
       "Bulk 3     0\n",
       "Bulk 4     0\n",
       "Bulk 5     0\n",
       "Bulk 6     0\n",
       "Bulk 7     0\n",
       "Bulk 8     0\n",
       "Bulk 9     0\n",
       "Bulk 10    0\n",
       "Bulk 11    0\n",
       "Bulk 12    0\n",
       "Bulk 13    0\n",
       "Bulk 14    0\n",
       "Bulk 15    0\n",
       "dtype: int64"
      ]
     },
     "execution_count": 27,
     "metadata": {},
     "output_type": "execute_result"
    }
   ],
   "source": [
    "bulk_new.isna().sum()"
   ]
  },
  {
   "cell_type": "markdown",
   "id": "d9f603e4",
   "metadata": {},
   "source": [
    "Приведем признаки к snake_case"
   ]
  },
  {
   "cell_type": "code",
   "execution_count": 28,
   "id": "fdf93604",
   "metadata": {},
   "outputs": [],
   "source": [
    "bulk_new.columns = ['key', 'bulk_1', 'bulk_2', 'bulk_3', 'bulk_4', \n",
    "                    'bulk_5', 'bulk_6', 'bulk_7', 'bulk_8', 'bulk_9', \n",
    "                    'bulk_10', 'bulk_11', 'bulk_12', 'bulk_13', 'bulk_14', 'bulk_15']"
   ]
  },
  {
   "cell_type": "code",
   "execution_count": 30,
   "id": "b7f3f13e",
   "metadata": {},
   "outputs": [
    {
     "name": "stdout",
     "output_type": "stream",
     "text": [
      "<class 'pandas.core.frame.DataFrame'>\n",
      "RangeIndex: 3129 entries, 0 to 3128\n",
      "Data columns (total 16 columns):\n",
      " #   Column   Non-Null Count  Dtype  \n",
      "---  ------   --------------  -----  \n",
      " 0   key      3129 non-null   int64  \n",
      " 1   bulk_1   3129 non-null   float64\n",
      " 2   bulk_2   3129 non-null   float64\n",
      " 3   bulk_3   3129 non-null   float64\n",
      " 4   bulk_4   3129 non-null   float64\n",
      " 5   bulk_5   3129 non-null   float64\n",
      " 6   bulk_6   3129 non-null   float64\n",
      " 7   bulk_7   3129 non-null   float64\n",
      " 8   bulk_8   3129 non-null   float64\n",
      " 9   bulk_9   3129 non-null   float64\n",
      " 10  bulk_10  3129 non-null   float64\n",
      " 11  bulk_11  3129 non-null   float64\n",
      " 12  bulk_12  3129 non-null   float64\n",
      " 13  bulk_13  3129 non-null   float64\n",
      " 14  bulk_14  3129 non-null   float64\n",
      " 15  bulk_15  3129 non-null   float64\n",
      "dtypes: float64(15), int64(1)\n",
      "memory usage: 391.3 KB\n"
     ]
    }
   ],
   "source": [
    "bulk_new.info()"
   ]
  },
  {
   "cell_type": "code",
   "execution_count": 31,
   "id": "1f20c0bd",
   "metadata": {
    "scrolled": true
   },
   "outputs": [
    {
     "data": {
      "text/html": [
       "<div>\n",
       "<style scoped>\n",
       "    .dataframe tbody tr th:only-of-type {\n",
       "        vertical-align: middle;\n",
       "    }\n",
       "\n",
       "    .dataframe tbody tr th {\n",
       "        vertical-align: top;\n",
       "    }\n",
       "\n",
       "    .dataframe thead th {\n",
       "        text-align: right;\n",
       "    }\n",
       "</style>\n",
       "<table border=\"1\" class=\"dataframe\">\n",
       "  <thead>\n",
       "    <tr style=\"text-align: right;\">\n",
       "      <th></th>\n",
       "      <th>key</th>\n",
       "      <th>bulk_1</th>\n",
       "      <th>bulk_2</th>\n",
       "      <th>bulk_3</th>\n",
       "      <th>bulk_4</th>\n",
       "      <th>bulk_5</th>\n",
       "      <th>bulk_6</th>\n",
       "      <th>bulk_7</th>\n",
       "      <th>bulk_8</th>\n",
       "      <th>bulk_9</th>\n",
       "      <th>bulk_10</th>\n",
       "      <th>bulk_11</th>\n",
       "      <th>bulk_12</th>\n",
       "      <th>bulk_13</th>\n",
       "      <th>bulk_14</th>\n",
       "      <th>bulk_15</th>\n",
       "    </tr>\n",
       "  </thead>\n",
       "  <tbody>\n",
       "    <tr>\n",
       "      <th>count</th>\n",
       "      <td>3129.000000</td>\n",
       "      <td>3129.000000</td>\n",
       "      <td>3129.000000</td>\n",
       "      <td>3129.000000</td>\n",
       "      <td>3129.000000</td>\n",
       "      <td>3129.000000</td>\n",
       "      <td>3129.000000</td>\n",
       "      <td>3129.000000</td>\n",
       "      <td>3129.000000</td>\n",
       "      <td>3129.000000</td>\n",
       "      <td>3129.000000</td>\n",
       "      <td>3129.000000</td>\n",
       "      <td>3129.000000</td>\n",
       "      <td>3129.000000</td>\n",
       "      <td>3129.000000</td>\n",
       "      <td>3129.000000</td>\n",
       "    </tr>\n",
       "    <tr>\n",
       "      <th>mean</th>\n",
       "      <td>1624.383509</td>\n",
       "      <td>3.160435</td>\n",
       "      <td>1.779163</td>\n",
       "      <td>47.240332</td>\n",
       "      <td>33.830617</td>\n",
       "      <td>2.633749</td>\n",
       "      <td>21.892298</td>\n",
       "      <td>2.441675</td>\n",
       "      <td>0.015660</td>\n",
       "      <td>0.463407</td>\n",
       "      <td>4.684564</td>\n",
       "      <td>4.345478</td>\n",
       "      <td>203.948226</td>\n",
       "      <td>1.041866</td>\n",
       "      <td>152.706616</td>\n",
       "      <td>115.319271</td>\n",
       "    </tr>\n",
       "    <tr>\n",
       "      <th>std</th>\n",
       "      <td>933.337642</td>\n",
       "      <td>11.869164</td>\n",
       "      <td>21.217878</td>\n",
       "      <td>74.239954</td>\n",
       "      <td>56.034505</td>\n",
       "      <td>20.918138</td>\n",
       "      <td>55.492582</td>\n",
       "      <td>31.944063</td>\n",
       "      <td>0.875978</td>\n",
       "      <td>6.154398</td>\n",
       "      <td>20.157323</td>\n",
       "      <td>22.699580</td>\n",
       "      <td>151.419639</td>\n",
       "      <td>14.114252</td>\n",
       "      <td>81.091421</td>\n",
       "      <td>84.488698</td>\n",
       "    </tr>\n",
       "    <tr>\n",
       "      <th>min</th>\n",
       "      <td>1.000000</td>\n",
       "      <td>0.000000</td>\n",
       "      <td>0.000000</td>\n",
       "      <td>0.000000</td>\n",
       "      <td>0.000000</td>\n",
       "      <td>0.000000</td>\n",
       "      <td>0.000000</td>\n",
       "      <td>0.000000</td>\n",
       "      <td>0.000000</td>\n",
       "      <td>0.000000</td>\n",
       "      <td>0.000000</td>\n",
       "      <td>0.000000</td>\n",
       "      <td>0.000000</td>\n",
       "      <td>0.000000</td>\n",
       "      <td>0.000000</td>\n",
       "      <td>0.000000</td>\n",
       "    </tr>\n",
       "    <tr>\n",
       "      <th>25%</th>\n",
       "      <td>816.000000</td>\n",
       "      <td>0.000000</td>\n",
       "      <td>0.000000</td>\n",
       "      <td>0.000000</td>\n",
       "      <td>0.000000</td>\n",
       "      <td>0.000000</td>\n",
       "      <td>0.000000</td>\n",
       "      <td>0.000000</td>\n",
       "      <td>0.000000</td>\n",
       "      <td>0.000000</td>\n",
       "      <td>0.000000</td>\n",
       "      <td>0.000000</td>\n",
       "      <td>105.000000</td>\n",
       "      <td>0.000000</td>\n",
       "      <td>104.000000</td>\n",
       "      <td>0.000000</td>\n",
       "    </tr>\n",
       "    <tr>\n",
       "      <th>50%</th>\n",
       "      <td>1622.000000</td>\n",
       "      <td>0.000000</td>\n",
       "      <td>0.000000</td>\n",
       "      <td>0.000000</td>\n",
       "      <td>0.000000</td>\n",
       "      <td>0.000000</td>\n",
       "      <td>0.000000</td>\n",
       "      <td>0.000000</td>\n",
       "      <td>0.000000</td>\n",
       "      <td>0.000000</td>\n",
       "      <td>0.000000</td>\n",
       "      <td>0.000000</td>\n",
       "      <td>206.000000</td>\n",
       "      <td>0.000000</td>\n",
       "      <td>148.000000</td>\n",
       "      <td>106.000000</td>\n",
       "    </tr>\n",
       "    <tr>\n",
       "      <th>75%</th>\n",
       "      <td>2431.000000</td>\n",
       "      <td>0.000000</td>\n",
       "      <td>0.000000</td>\n",
       "      <td>80.000000</td>\n",
       "      <td>68.000000</td>\n",
       "      <td>0.000000</td>\n",
       "      <td>0.000000</td>\n",
       "      <td>0.000000</td>\n",
       "      <td>0.000000</td>\n",
       "      <td>0.000000</td>\n",
       "      <td>0.000000</td>\n",
       "      <td>0.000000</td>\n",
       "      <td>263.000000</td>\n",
       "      <td>0.000000</td>\n",
       "      <td>202.000000</td>\n",
       "      <td>204.000000</td>\n",
       "    </tr>\n",
       "    <tr>\n",
       "      <th>max</th>\n",
       "      <td>3241.000000</td>\n",
       "      <td>185.000000</td>\n",
       "      <td>325.000000</td>\n",
       "      <td>454.000000</td>\n",
       "      <td>281.000000</td>\n",
       "      <td>603.000000</td>\n",
       "      <td>503.000000</td>\n",
       "      <td>772.000000</td>\n",
       "      <td>49.000000</td>\n",
       "      <td>147.000000</td>\n",
       "      <td>159.000000</td>\n",
       "      <td>313.000000</td>\n",
       "      <td>1849.000000</td>\n",
       "      <td>305.000000</td>\n",
       "      <td>636.000000</td>\n",
       "      <td>405.000000</td>\n",
       "    </tr>\n",
       "  </tbody>\n",
       "</table>\n",
       "</div>"
      ],
      "text/plain": [
       "               key       bulk_1       bulk_2       bulk_3       bulk_4  \\\n",
       "count  3129.000000  3129.000000  3129.000000  3129.000000  3129.000000   \n",
       "mean   1624.383509     3.160435     1.779163    47.240332    33.830617   \n",
       "std     933.337642    11.869164    21.217878    74.239954    56.034505   \n",
       "min       1.000000     0.000000     0.000000     0.000000     0.000000   \n",
       "25%     816.000000     0.000000     0.000000     0.000000     0.000000   \n",
       "50%    1622.000000     0.000000     0.000000     0.000000     0.000000   \n",
       "75%    2431.000000     0.000000     0.000000    80.000000    68.000000   \n",
       "max    3241.000000   185.000000   325.000000   454.000000   281.000000   \n",
       "\n",
       "            bulk_5       bulk_6       bulk_7       bulk_8       bulk_9  \\\n",
       "count  3129.000000  3129.000000  3129.000000  3129.000000  3129.000000   \n",
       "mean      2.633749    21.892298     2.441675     0.015660     0.463407   \n",
       "std      20.918138    55.492582    31.944063     0.875978     6.154398   \n",
       "min       0.000000     0.000000     0.000000     0.000000     0.000000   \n",
       "25%       0.000000     0.000000     0.000000     0.000000     0.000000   \n",
       "50%       0.000000     0.000000     0.000000     0.000000     0.000000   \n",
       "75%       0.000000     0.000000     0.000000     0.000000     0.000000   \n",
       "max     603.000000   503.000000   772.000000    49.000000   147.000000   \n",
       "\n",
       "           bulk_10      bulk_11      bulk_12      bulk_13      bulk_14  \\\n",
       "count  3129.000000  3129.000000  3129.000000  3129.000000  3129.000000   \n",
       "mean      4.684564     4.345478   203.948226     1.041866   152.706616   \n",
       "std      20.157323    22.699580   151.419639    14.114252    81.091421   \n",
       "min       0.000000     0.000000     0.000000     0.000000     0.000000   \n",
       "25%       0.000000     0.000000   105.000000     0.000000   104.000000   \n",
       "50%       0.000000     0.000000   206.000000     0.000000   148.000000   \n",
       "75%       0.000000     0.000000   263.000000     0.000000   202.000000   \n",
       "max     159.000000   313.000000  1849.000000   305.000000   636.000000   \n",
       "\n",
       "           bulk_15  \n",
       "count  3129.000000  \n",
       "mean    115.319271  \n",
       "std      84.488698  \n",
       "min       0.000000  \n",
       "25%       0.000000  \n",
       "50%     106.000000  \n",
       "75%     204.000000  \n",
       "max     405.000000  "
      ]
     },
     "execution_count": 31,
     "metadata": {},
     "output_type": "execute_result"
    }
   ],
   "source": [
    "bulk_new.describe()"
   ]
  },
  {
   "cell_type": "markdown",
   "id": "33f4e376",
   "metadata": {},
   "source": [
    "Отрицательных значений нет"
   ]
  },
  {
   "cell_type": "markdown",
   "id": "488db43d",
   "metadata": {},
   "source": [
    "**bulk_time_new**"
   ]
  },
  {
   "cell_type": "markdown",
   "id": "6fb8002c",
   "metadata": {},
   "source": [
    "Приведем к snake_case"
   ]
  },
  {
   "cell_type": "code",
   "execution_count": 37,
   "id": "429cec11",
   "metadata": {},
   "outputs": [],
   "source": [
    "bulk_time_new.columns = ['key', 'bulk_1', 'bulk_2', 'bulk_3', 'bulk_4', \n",
    "                    'bulk_5', 'bulk_6', 'bulk_7', 'bulk_8', 'bulk_9', \n",
    "                    'bulk_10', 'bulk_11', 'bulk_12', 'bulk_13', 'bulk_14', 'bulk_15']"
   ]
  },
  {
   "cell_type": "code",
   "execution_count": 40,
   "id": "84f43e59",
   "metadata": {},
   "outputs": [],
   "source": [
    "columns = ['bulk_1', 'bulk_2', 'bulk_3', 'bulk_4', \n",
    "                    'bulk_5', 'bulk_6', 'bulk_7', 'bulk_8', 'bulk_9', \n",
    "                    'bulk_10', 'bulk_11', 'bulk_12', 'bulk_13', 'bulk_14', 'bulk_15']"
   ]
  },
  {
   "cell_type": "code",
   "execution_count": null,
   "id": "edbae798",
   "metadata": {},
   "outputs": [],
   "source": []
  },
  {
   "cell_type": "markdown",
   "id": "0dc8c439",
   "metadata": {},
   "source": [
    "Приведем к date_time"
   ]
  },
  {
   "cell_type": "code",
   "execution_count": 41,
   "id": "4a19be7a",
   "metadata": {},
   "outputs": [],
   "source": [
    "def to_datetime(columns:str, df:pd.DataFrame) -> pd.DataFrame:\n",
    "    for column in columns:\n",
    "        df[column] = pd.to_datetime(df[column], infer_datetime_format = True) \n",
    "    return df"
   ]
  },
  {
   "cell_type": "code",
   "execution_count": 42,
   "id": "956937b1",
   "metadata": {},
   "outputs": [
    {
     "name": "stderr",
     "output_type": "stream",
     "text": [
      "/var/folders/5m/tbwsb3vs6734vbbw653my9v00000gp/T/ipykernel_14090/3886688226.py:3: UserWarning: The argument 'infer_datetime_format' is deprecated and will be removed in a future version. A strict version of it is now the default, see https://pandas.pydata.org/pdeps/0004-consistent-to-datetime-parsing.html. You can safely remove this argument.\n",
      "  df[column] = pd.to_datetime(df[column], infer_datetime_format = True)\n",
      "/var/folders/5m/tbwsb3vs6734vbbw653my9v00000gp/T/ipykernel_14090/3886688226.py:3: UserWarning: The argument 'infer_datetime_format' is deprecated and will be removed in a future version. A strict version of it is now the default, see https://pandas.pydata.org/pdeps/0004-consistent-to-datetime-parsing.html. You can safely remove this argument.\n",
      "  df[column] = pd.to_datetime(df[column], infer_datetime_format = True)\n",
      "/var/folders/5m/tbwsb3vs6734vbbw653my9v00000gp/T/ipykernel_14090/3886688226.py:3: UserWarning: The argument 'infer_datetime_format' is deprecated and will be removed in a future version. A strict version of it is now the default, see https://pandas.pydata.org/pdeps/0004-consistent-to-datetime-parsing.html. You can safely remove this argument.\n",
      "  df[column] = pd.to_datetime(df[column], infer_datetime_format = True)\n",
      "/var/folders/5m/tbwsb3vs6734vbbw653my9v00000gp/T/ipykernel_14090/3886688226.py:3: UserWarning: The argument 'infer_datetime_format' is deprecated and will be removed in a future version. A strict version of it is now the default, see https://pandas.pydata.org/pdeps/0004-consistent-to-datetime-parsing.html. You can safely remove this argument.\n",
      "  df[column] = pd.to_datetime(df[column], infer_datetime_format = True)\n"
     ]
    },
    {
     "ename": "ValueError",
     "evalue": "time data \"0\" doesn't match format \"%Y-%m-%d %H:%M:%S\", at position 9. You might want to try:\n    - passing `format` if your strings have a consistent format;\n    - passing `format='ISO8601'` if your strings are all ISO8601 but not necessarily in exactly the same format;\n    - passing `format='mixed'`, and the format will be inferred for each element individually. You might want to use `dayfirst` alongside this.",
     "output_type": "error",
     "traceback": [
      "\u001b[0;31m---------------------------------------------------------------------------\u001b[0m",
      "\u001b[0;31mValueError\u001b[0m                                Traceback (most recent call last)",
      "Cell \u001b[0;32mIn[42], line 1\u001b[0m\n\u001b[0;32m----> 1\u001b[0m bulk_time_new \u001b[38;5;241m=\u001b[39m to_datetime(columns, bulk_time_new)\n",
      "Cell \u001b[0;32mIn[41], line 3\u001b[0m, in \u001b[0;36mto_datetime\u001b[0;34m(columns, df)\u001b[0m\n\u001b[1;32m      1\u001b[0m \u001b[38;5;28;01mdef\u001b[39;00m \u001b[38;5;21mto_datetime\u001b[39m(columns:\u001b[38;5;28mstr\u001b[39m, df:pd\u001b[38;5;241m.\u001b[39mDataFrame) \u001b[38;5;241m-\u001b[39m\u001b[38;5;241m>\u001b[39m pd\u001b[38;5;241m.\u001b[39mDataFrame:\n\u001b[1;32m      2\u001b[0m     \u001b[38;5;28;01mfor\u001b[39;00m column \u001b[38;5;129;01min\u001b[39;00m columns:\n\u001b[0;32m----> 3\u001b[0m         df[column] \u001b[38;5;241m=\u001b[39m pd\u001b[38;5;241m.\u001b[39mto_datetime(df[column], infer_datetime_format \u001b[38;5;241m=\u001b[39m \u001b[38;5;28;01mTrue\u001b[39;00m) \n\u001b[1;32m      4\u001b[0m     \u001b[38;5;28;01mreturn\u001b[39;00m df\n",
      "File \u001b[0;32m//anaconda3/lib/python3.11/site-packages/pandas/core/tools/datetimes.py:1046\u001b[0m, in \u001b[0;36mto_datetime\u001b[0;34m(arg, errors, dayfirst, yearfirst, utc, format, exact, unit, infer_datetime_format, origin, cache)\u001b[0m\n\u001b[1;32m   1044\u001b[0m             result \u001b[38;5;241m=\u001b[39m arg\u001b[38;5;241m.\u001b[39mtz_localize(\u001b[38;5;124m\"\u001b[39m\u001b[38;5;124mutc\u001b[39m\u001b[38;5;124m\"\u001b[39m)\n\u001b[1;32m   1045\u001b[0m \u001b[38;5;28;01melif\u001b[39;00m \u001b[38;5;28misinstance\u001b[39m(arg, ABCSeries):\n\u001b[0;32m-> 1046\u001b[0m     cache_array \u001b[38;5;241m=\u001b[39m _maybe_cache(arg, \u001b[38;5;28mformat\u001b[39m, cache, convert_listlike)\n\u001b[1;32m   1047\u001b[0m     \u001b[38;5;28;01mif\u001b[39;00m \u001b[38;5;129;01mnot\u001b[39;00m cache_array\u001b[38;5;241m.\u001b[39mempty:\n\u001b[1;32m   1048\u001b[0m         result \u001b[38;5;241m=\u001b[39m arg\u001b[38;5;241m.\u001b[39mmap(cache_array)\n",
      "File \u001b[0;32m//anaconda3/lib/python3.11/site-packages/pandas/core/tools/datetimes.py:250\u001b[0m, in \u001b[0;36m_maybe_cache\u001b[0;34m(arg, format, cache, convert_listlike)\u001b[0m\n\u001b[1;32m    248\u001b[0m unique_dates \u001b[38;5;241m=\u001b[39m unique(arg)\n\u001b[1;32m    249\u001b[0m \u001b[38;5;28;01mif\u001b[39;00m \u001b[38;5;28mlen\u001b[39m(unique_dates) \u001b[38;5;241m<\u001b[39m \u001b[38;5;28mlen\u001b[39m(arg):\n\u001b[0;32m--> 250\u001b[0m     cache_dates \u001b[38;5;241m=\u001b[39m convert_listlike(unique_dates, \u001b[38;5;28mformat\u001b[39m)\n\u001b[1;32m    251\u001b[0m     \u001b[38;5;66;03m# GH#45319\u001b[39;00m\n\u001b[1;32m    252\u001b[0m     \u001b[38;5;28;01mtry\u001b[39;00m:\n",
      "File \u001b[0;32m//anaconda3/lib/python3.11/site-packages/pandas/core/tools/datetimes.py:453\u001b[0m, in \u001b[0;36m_convert_listlike_datetimes\u001b[0;34m(arg, format, name, utc, unit, errors, dayfirst, yearfirst, exact)\u001b[0m\n\u001b[1;32m    451\u001b[0m \u001b[38;5;66;03m# `format` could be inferred, or user didn't ask for mixed-format parsing.\u001b[39;00m\n\u001b[1;32m    452\u001b[0m \u001b[38;5;28;01mif\u001b[39;00m \u001b[38;5;28mformat\u001b[39m \u001b[38;5;129;01mis\u001b[39;00m \u001b[38;5;129;01mnot\u001b[39;00m \u001b[38;5;28;01mNone\u001b[39;00m \u001b[38;5;129;01mand\u001b[39;00m \u001b[38;5;28mformat\u001b[39m \u001b[38;5;241m!=\u001b[39m \u001b[38;5;124m\"\u001b[39m\u001b[38;5;124mmixed\u001b[39m\u001b[38;5;124m\"\u001b[39m:\n\u001b[0;32m--> 453\u001b[0m     \u001b[38;5;28;01mreturn\u001b[39;00m _array_strptime_with_fallback(arg, name, utc, \u001b[38;5;28mformat\u001b[39m, exact, errors)\n\u001b[1;32m    455\u001b[0m result, tz_parsed \u001b[38;5;241m=\u001b[39m objects_to_datetime64ns(\n\u001b[1;32m    456\u001b[0m     arg,\n\u001b[1;32m    457\u001b[0m     dayfirst\u001b[38;5;241m=\u001b[39mdayfirst,\n\u001b[0;32m   (...)\u001b[0m\n\u001b[1;32m    461\u001b[0m     allow_object\u001b[38;5;241m=\u001b[39m\u001b[38;5;28;01mTrue\u001b[39;00m,\n\u001b[1;32m    462\u001b[0m )\n\u001b[1;32m    464\u001b[0m \u001b[38;5;28;01mif\u001b[39;00m tz_parsed \u001b[38;5;129;01mis\u001b[39;00m \u001b[38;5;129;01mnot\u001b[39;00m \u001b[38;5;28;01mNone\u001b[39;00m:\n\u001b[1;32m    465\u001b[0m     \u001b[38;5;66;03m# We can take a shortcut since the datetime64 numpy array\u001b[39;00m\n\u001b[1;32m    466\u001b[0m     \u001b[38;5;66;03m# is in UTC\u001b[39;00m\n",
      "File \u001b[0;32m//anaconda3/lib/python3.11/site-packages/pandas/core/tools/datetimes.py:484\u001b[0m, in \u001b[0;36m_array_strptime_with_fallback\u001b[0;34m(arg, name, utc, fmt, exact, errors)\u001b[0m\n\u001b[1;32m    473\u001b[0m \u001b[38;5;28;01mdef\u001b[39;00m \u001b[38;5;21m_array_strptime_with_fallback\u001b[39m(\n\u001b[1;32m    474\u001b[0m     arg,\n\u001b[1;32m    475\u001b[0m     name,\n\u001b[0;32m   (...)\u001b[0m\n\u001b[1;32m    479\u001b[0m     errors: \u001b[38;5;28mstr\u001b[39m,\n\u001b[1;32m    480\u001b[0m ) \u001b[38;5;241m-\u001b[39m\u001b[38;5;241m>\u001b[39m Index:\n\u001b[1;32m    481\u001b[0m \u001b[38;5;250m    \u001b[39m\u001b[38;5;124;03m\"\"\"\u001b[39;00m\n\u001b[1;32m    482\u001b[0m \u001b[38;5;124;03m    Call array_strptime, with fallback behavior depending on 'errors'.\u001b[39;00m\n\u001b[1;32m    483\u001b[0m \u001b[38;5;124;03m    \"\"\"\u001b[39;00m\n\u001b[0;32m--> 484\u001b[0m     result, timezones \u001b[38;5;241m=\u001b[39m array_strptime(arg, fmt, exact\u001b[38;5;241m=\u001b[39mexact, errors\u001b[38;5;241m=\u001b[39merrors, utc\u001b[38;5;241m=\u001b[39mutc)\n\u001b[1;32m    485\u001b[0m     \u001b[38;5;28;01mif\u001b[39;00m \u001b[38;5;28many\u001b[39m(tz \u001b[38;5;129;01mis\u001b[39;00m \u001b[38;5;129;01mnot\u001b[39;00m \u001b[38;5;28;01mNone\u001b[39;00m \u001b[38;5;28;01mfor\u001b[39;00m tz \u001b[38;5;129;01min\u001b[39;00m timezones):\n\u001b[1;32m    486\u001b[0m         \u001b[38;5;28;01mreturn\u001b[39;00m _return_parsed_timezone_results(result, timezones, utc, name)\n",
      "File \u001b[0;32m//anaconda3/lib/python3.11/site-packages/pandas/_libs/tslibs/strptime.pyx:530\u001b[0m, in \u001b[0;36mpandas._libs.tslibs.strptime.array_strptime\u001b[0;34m()\u001b[0m\n",
      "File \u001b[0;32m//anaconda3/lib/python3.11/site-packages/pandas/_libs/tslibs/strptime.pyx:351\u001b[0m, in \u001b[0;36mpandas._libs.tslibs.strptime.array_strptime\u001b[0;34m()\u001b[0m\n",
      "\u001b[0;31mValueError\u001b[0m: time data \"0\" doesn't match format \"%Y-%m-%d %H:%M:%S\", at position 9. You might want to try:\n    - passing `format` if your strings have a consistent format;\n    - passing `format='ISO8601'` if your strings are all ISO8601 but not necessarily in exactly the same format;\n    - passing `format='mixed'`, and the format will be inferred for each element individually. You might want to use `dayfirst` alongside this."
     ]
    }
   ],
   "source": [
    "bulk_time_new = to_datetime(columns, bulk_time_new)"
   ]
  },
  {
   "cell_type": "code",
   "execution_count": 34,
   "id": "33c5fd5d",
   "metadata": {},
   "outputs": [
    {
     "data": {
      "text/plain": [
       "key           0\n",
       "Bulk 1     2877\n",
       "Bulk 2     3107\n",
       "Bulk 3     1831\n",
       "Bulk 4     2115\n",
       "Bulk 5     3052\n",
       "Bulk 6     2553\n",
       "Bulk 7     3104\n",
       "Bulk 8     3128\n",
       "Bulk 9     3110\n",
       "Bulk 10    2953\n",
       "Bulk 11    2952\n",
       "Bulk 12     679\n",
       "Bulk 13    3111\n",
       "Bulk 14     323\n",
       "Bulk 15     881\n",
       "dtype: int64"
      ]
     },
     "execution_count": 34,
     "metadata": {},
     "output_type": "execute_result"
    }
   ],
   "source": [
    "bulk_time_new.isna().sum()"
   ]
  },
  {
   "cell_type": "markdown",
   "id": "cd42a3f9",
   "metadata": {},
   "source": [
    "Здесь аналогичная ситуация"
   ]
  },
  {
   "cell_type": "code",
   "execution_count": 35,
   "id": "c8133bf1",
   "metadata": {},
   "outputs": [],
   "source": [
    "bulk_time_new = bulk_time_new.fillna(0)"
   ]
  }
 ],
 "metadata": {
  "kernelspec": {
   "display_name": "Python 3 (ipykernel)",
   "language": "python",
   "name": "python3"
  },
  "language_info": {
   "codemirror_mode": {
    "name": "ipython",
    "version": 3
   },
   "file_extension": ".py",
   "mimetype": "text/x-python",
   "name": "python",
   "nbconvert_exporter": "python",
   "pygments_lexer": "ipython3",
   "version": "3.11.5"
  }
 },
 "nbformat": 4,
 "nbformat_minor": 5
}
